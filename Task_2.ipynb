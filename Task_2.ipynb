{
 "cells": [
  {
   "cell_type": "code",
   "execution_count": 1,
   "metadata": {},
   "outputs": [],
   "source": [
    "import numpy as np\n",
    "import pandas as pd\n"
   ]
  },
  {
   "cell_type": "code",
   "execution_count": 3,
   "metadata": {},
   "outputs": [],
   "source": [
    "data = pd.read_table(\"zoo_data.txt\",header=None)"
   ]
  },
  {
   "cell_type": "code",
   "execution_count": 4,
   "metadata": {},
   "outputs": [],
   "source": [
    "df = pd.DataFrame(data)\n"
   ]
  },
  {
   "cell_type": "code",
   "execution_count": 5,
   "metadata": {},
   "outputs": [],
   "source": [
    "df[\"Name\"]= df[0]"
   ]
  },
  {
   "cell_type": "code",
   "execution_count": 6,
   "metadata": {},
   "outputs": [],
   "source": [
    "df.drop(columns =[0], inplace = True)"
   ]
  },
  {
   "cell_type": "code",
   "execution_count": null,
   "metadata": {},
   "outputs": [],
   "source": []
  },
  {
   "cell_type": "code",
   "execution_count": 7,
   "metadata": {},
   "outputs": [],
   "source": [
    "new = df[\"Name\"].str.split(\",\", n = 17, expand = True) "
   ]
  },
  {
   "cell_type": "code",
   "execution_count": null,
   "metadata": {},
   "outputs": [],
   "source": []
  },
  {
   "cell_type": "code",
   "execution_count": 8,
   "metadata": {},
   "outputs": [],
   "source": [
    "new[\"y\"]= new[17]"
   ]
  },
  {
   "cell_type": "code",
   "execution_count": null,
   "metadata": {},
   "outputs": [],
   "source": []
  },
  {
   "cell_type": "code",
   "execution_count": 9,
   "metadata": {},
   "outputs": [],
   "source": [
    "new.drop(columns =[17], inplace = True)"
   ]
  },
  {
   "cell_type": "code",
   "execution_count": null,
   "metadata": {},
   "outputs": [],
   "source": []
  },
  {
   "cell_type": "code",
   "execution_count": 10,
   "metadata": {},
   "outputs": [],
   "source": [
    "h = new"
   ]
  },
  {
   "cell_type": "code",
   "execution_count": 11,
   "metadata": {},
   "outputs": [],
   "source": [
    "y = h.y"
   ]
  },
  {
   "cell_type": "code",
   "execution_count": 12,
   "metadata": {},
   "outputs": [],
   "source": [
    "x = h.drop(['y'],axis = 1)"
   ]
  },
  {
   "cell_type": "code",
   "execution_count": 13,
   "metadata": {},
   "outputs": [],
   "source": [
    "x = x.drop([0],axis = 1)"
   ]
  },
  {
   "cell_type": "code",
   "execution_count": null,
   "metadata": {},
   "outputs": [],
   "source": []
  },
  {
   "cell_type": "code",
   "execution_count": null,
   "metadata": {},
   "outputs": [],
   "source": []
  },
  {
   "cell_type": "code",
   "execution_count": 14,
   "metadata": {},
   "outputs": [
    {
     "name": "stderr",
     "output_type": "stream",
     "text": [
      "Using TensorFlow backend.\n"
     ]
    }
   ],
   "source": [
    "import numpy as np # linear algebra\n",
    "import pandas as pd # data processing, CSV file I/O (e.g. pd.read_csv)\n",
    "\n",
    "import pandas as pd \n",
    "import matplotlib.pyplot as plt\n",
    "from sklearn.preprocessing import StandardScaler\n",
    "\n",
    "import numpy as np \n",
    "import pandas as pd \n",
    "import pandas as pd \n",
    "import numpy as np \n",
    "import scipy as sp \n",
    "import sklearn\n",
    "import random \n",
    "import time \n",
    "\n",
    "from sklearn import preprocessing, model_selection\n",
    "\n",
    "\n",
    "from keras.models import Sequential \n",
    "from keras.layers import Dense \n",
    "from keras.utils import np_utils\n",
    "from sklearn.preprocessing import LabelEncoder\n",
    "from keras.utils.np_utils import to_categorical\n",
    "from sklearn.utils import shuffle"
   ]
  },
  {
   "cell_type": "code",
   "execution_count": 15,
   "metadata": {},
   "outputs": [],
   "source": [
    "# fix random seed for reproducibility\n",
    "seed = 7\n",
    "np.random.seed(seed)"
   ]
  },
  {
   "cell_type": "code",
   "execution_count": 17,
   "metadata": {},
   "outputs": [],
   "source": [
    "# encode class values as integers\n",
    "encoder = LabelEncoder()\n",
    "encoder.fit(y)\n",
    "encoded_Y = encoder.transform(y)\n",
    "# convert integers to dummy variables (i.e. one hot encoded)\n",
    "dummy_y = np_utils.to_categorical(encoded_Y)"
   ]
  },
  {
   "cell_type": "code",
   "execution_count": 18,
   "metadata": {},
   "outputs": [],
   "source": [
    "train_x, test_x, train_y, test_y = model_selection.train_test_split(x,dummy_y,test_size = 0.2, random_state = 0)"
   ]
  },
  {
   "cell_type": "code",
   "execution_count": 19,
   "metadata": {},
   "outputs": [],
   "source": [
    "from keras.utils import to_categorical\n",
    "y_binary = to_categorical(train_y)\n",
    "y_binary1 = to_categorical(test_y)"
   ]
  },
  {
   "cell_type": "code",
   "execution_count": 21,
   "metadata": {},
   "outputs": [
    {
     "name": "stderr",
     "output_type": "stream",
     "text": [
      "c:\\users\\dell\\appdata\\local\\programs\\python\\python36\\lib\\site-packages\\ipykernel_launcher.py:3: UserWarning: Update your `Dense` call to the Keras 2 API: `Dense(50, activation=\"relu\", kernel_initializer=\"uniform\")`\n",
      "  This is separate from the ipykernel package so we can avoid doing imports until\n",
      "c:\\users\\dell\\appdata\\local\\programs\\python\\python36\\lib\\site-packages\\ipykernel_launcher.py:4: UserWarning: Update your `Dense` call to the Keras 2 API: `Dense(50, activation=\"relu\", kernel_initializer=\"uniform\")`\n",
      "  after removing the cwd from sys.path.\n",
      "c:\\users\\dell\\appdata\\local\\programs\\python\\python36\\lib\\site-packages\\ipykernel_launcher.py:5: UserWarning: Update your `Dense` call to the Keras 2 API: `Dense(17, activation=\"relu\", kernel_initializer=\"uniform\")`\n",
      "  \"\"\"\n"
     ]
    },
    {
     "name": "stdout",
     "output_type": "stream",
     "text": [
      "Epoch 1/50\n",
      "80/80 [==============================] - 0s 6ms/step - loss: 1.9407 - acc: 0.4000\n",
      "Epoch 2/50\n",
      "80/80 [==============================] - 0s 283us/step - loss: 1.9259 - acc: 0.4250\n",
      "Epoch 3/50\n",
      "80/80 [==============================] - 0s 300us/step - loss: 1.8935 - acc: 0.4250\n",
      "Epoch 4/50\n",
      "80/80 [==============================] - 0s 158us/step - loss: 1.8361 - acc: 0.4250\n",
      "Epoch 5/50\n",
      "80/80 [==============================] - 0s 369us/step - loss: 1.7220 - acc: 0.4250\n",
      "Epoch 6/50\n",
      "80/80 [==============================] - 0s 295us/step - loss: 1.5856 - acc: 0.4250\n",
      "Epoch 7/50\n",
      "80/80 [==============================] - 0s 329us/step - loss: 1.5082 - acc: 0.4250\n",
      "Epoch 8/50\n",
      "80/80 [==============================] - 0s 199us/step - loss: 1.4732 - acc: 0.4250\n",
      "Epoch 9/50\n",
      "80/80 [==============================] - 0s 190us/step - loss: 1.4201 - acc: 0.4250\n",
      "Epoch 10/50\n",
      "80/80 [==============================] - 0s 156us/step - loss: 1.3960 - acc: 0.4750\n",
      "Epoch 11/50\n",
      "80/80 [==============================] - 0s 172us/step - loss: 1.3678 - acc: 0.5250\n",
      "Epoch 12/50\n",
      "80/80 [==============================] - 0s 360us/step - loss: 1.3138 - acc: 0.5250\n",
      "Epoch 13/50\n",
      "80/80 [==============================] - 0s 162us/step - loss: 1.2677 - acc: 0.5250\n",
      "Epoch 14/50\n",
      "80/80 [==============================] - 0s 214us/step - loss: 1.2131 - acc: 0.5250\n",
      "Epoch 15/50\n",
      "80/80 [==============================] - 0s 104us/step - loss: 1.1616 - acc: 0.5625\n",
      "Epoch 16/50\n",
      "80/80 [==============================] - 0s 213us/step - loss: 1.1076 - acc: 0.6000\n",
      "Epoch 17/50\n",
      "80/80 [==============================] - 0s 194us/step - loss: 1.0438 - acc: 0.6375\n",
      "Epoch 18/50\n",
      "80/80 [==============================] - 0s 171us/step - loss: 0.9851 - acc: 0.7000\n",
      "Epoch 19/50\n",
      "80/80 [==============================] - 0s 168us/step - loss: 0.9331 - acc: 0.7125\n",
      "Epoch 20/50\n",
      "80/80 [==============================] - 0s 162us/step - loss: 0.8794 - acc: 0.7250\n",
      "Epoch 21/50\n",
      "80/80 [==============================] - 0s 162us/step - loss: 0.8239 - acc: 0.7250\n",
      "Epoch 22/50\n",
      "80/80 [==============================] - 0s 165us/step - loss: 0.7784 - acc: 0.7250\n",
      "Epoch 23/50\n",
      "80/80 [==============================] - 0s 313us/step - loss: 0.7415 - acc: 0.7250\n",
      "Epoch 24/50\n",
      "80/80 [==============================] - 0s 272us/step - loss: 0.6948 - acc: 0.7375\n",
      "Epoch 25/50\n",
      "80/80 [==============================] - 0s 221us/step - loss: 0.6595 - acc: 0.7750\n",
      "Epoch 26/50\n",
      "80/80 [==============================] - 0s 233us/step - loss: 0.6283 - acc: 0.7750\n",
      "Epoch 27/50\n",
      "80/80 [==============================] - 0s 234us/step - loss: 0.5918 - acc: 0.8125\n",
      "Epoch 28/50\n",
      "80/80 [==============================] - 0s 192us/step - loss: 0.5683 - acc: 0.8250\n",
      "Epoch 29/50\n",
      "80/80 [==============================] - 0s 278us/step - loss: 0.5386 - acc: 0.8375\n",
      "Epoch 30/50\n",
      "80/80 [==============================] - 0s 313us/step - loss: 0.5157 - acc: 0.8500\n",
      "Epoch 31/50\n",
      "80/80 [==============================] - 0s 327us/step - loss: 0.4911 - acc: 0.8500\n",
      "Epoch 32/50\n",
      "80/80 [==============================] - 0s 214us/step - loss: 0.4636 - acc: 0.8500\n",
      "Epoch 33/50\n",
      "80/80 [==============================] - 0s 190us/step - loss: 0.4505 - acc: 0.8750\n",
      "Epoch 34/50\n",
      "80/80 [==============================] - 0s 270us/step - loss: 0.4245 - acc: 0.8750\n",
      "Epoch 35/50\n",
      "80/80 [==============================] - 0s 325us/step - loss: 0.4074 - acc: 0.8750\n",
      "Epoch 36/50\n",
      "80/80 [==============================] - 0s 214us/step - loss: 0.3906 - acc: 0.8750\n",
      "Epoch 37/50\n",
      "80/80 [==============================] - 0s 209us/step - loss: 0.3711 - acc: 0.9000\n",
      "Epoch 38/50\n",
      "80/80 [==============================] - 0s 224us/step - loss: 0.3612 - acc: 0.8875\n",
      "Epoch 39/50\n",
      "80/80 [==============================] - 0s 206us/step - loss: 0.3417 - acc: 0.9000\n",
      "Epoch 40/50\n",
      "80/80 [==============================] - 0s 375us/step - loss: 0.3205 - acc: 0.9000\n",
      "Epoch 41/50\n",
      "80/80 [==============================] - 0s 351us/step - loss: 0.3031 - acc: 0.9000\n",
      "Epoch 42/50\n",
      "80/80 [==============================] - 0s 376us/step - loss: 0.2917 - acc: 0.9000\n",
      "Epoch 43/50\n",
      "80/80 [==============================] - 0s 308us/step - loss: 0.2701 - acc: 0.9125\n",
      "Epoch 44/50\n",
      "80/80 [==============================] - 0s 273us/step - loss: 0.2717 - acc: 0.8875\n",
      "Epoch 45/50\n",
      "80/80 [==============================] - 0s 83us/step - loss: 0.2489 - acc: 0.9125\n",
      "Epoch 46/50\n",
      "80/80 [==============================] - 0s 209us/step - loss: 0.2318 - acc: 0.9125\n",
      "Epoch 47/50\n",
      "80/80 [==============================] - 0s 191us/step - loss: 0.2234 - acc: 0.9250\n",
      "Epoch 48/50\n",
      "80/80 [==============================] - 0s 236us/step - loss: 0.2142 - acc: 0.9250\n",
      "Epoch 49/50\n",
      "80/80 [==============================] - 0s 0us/step - loss: 0.2051 - acc: 0.9375\n",
      "Epoch 50/50\n",
      "80/80 [==============================] - 0s 341us/step - loss: 0.1936 - acc: 0.9375\n",
      "21/21 [==============================] - 0s 2ms/step\n",
      "\n",
      "acc: 95.24%\n"
     ]
    }
   ],
   "source": [
    "model = Sequential()\n",
    "model.add(Dense(16, input_dim = 16 , activation = 'relu'))\n",
    "model.add(Dense(50, init='uniform', activation='relu'))\n",
    "model.add(Dense(50, init='uniform', activation='relu'))\n",
    "model.add(Dense(17, init='uniform', activation='relu'))\n",
    "model.add(Dense(7, activation = 'softmax'))\n",
    "\n",
    "model.compile(loss = 'categorical_crossentropy' , optimizer = 'adam' , metrics = ['accuracy'] )\n",
    "\n",
    "model.fit(train_x, train_y, epochs = 50, batch_size = 10)\n",
    "\n",
    "scores = model.evaluate(test_x, test_y)\n",
    "print(\"\\n%s: %.2f%%\" % (model.metrics_names[1], scores[1]*100))"
   ]
  },
  {
   "cell_type": "code",
   "execution_count": null,
   "metadata": {},
   "outputs": [],
   "source": []
  },
  {
   "cell_type": "code",
   "execution_count": null,
   "metadata": {},
   "outputs": [],
   "source": []
  }
 ],
 "metadata": {
  "kernelspec": {
   "display_name": "Python 3",
   "language": "python",
   "name": "python3"
  }
 },
 "nbformat": 4,
 "nbformat_minor": 2
}
